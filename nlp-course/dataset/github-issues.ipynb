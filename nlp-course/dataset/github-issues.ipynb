{
 "cells": [
  {
   "cell_type": "code",
   "execution_count": 1,
   "metadata": {},
   "outputs": [],
   "source": [
    "import requests\n",
    "from dotenv import load_dotenv\n",
    "from datasets import load_dataset\n",
    "import os\n",
    "\n",
    "load_dotenv()\n",
    "GITHUB_TOKEN = os.getenv(\"GITHUB_TOKEN\")\n",
    "headers = {\"Authorization\": f\"Bearer {GITHUB_TOKEN}\"}\n",
    "\n",
    "url = \"https://api.github.com/repos/huggingface/datasets/issues?page=1&per_page=1\"\n",
    "response = requests.get(url, headers=headers)"
   ]
  },
  {
   "cell_type": "code",
   "execution_count": 2,
   "metadata": {},
   "outputs": [
    {
     "data": {
      "text/plain": [
       "200"
      ]
     },
     "execution_count": 2,
     "metadata": {},
     "output_type": "execute_result"
    }
   ],
   "source": [
    "response.status_code"
   ]
  },
  {
   "cell_type": "code",
   "execution_count": 3,
   "metadata": {},
   "outputs": [
    {
     "name": "stdout",
     "output_type": "stream",
     "text": [
      "[{'url': 'https://api.github.com/repos/huggingface/datasets/issues/6827', 'repository_url': 'https://api.github.com/repos/huggingface/datasets', 'labels_url': 'https://api.github.com/repos/huggingface/datasets/issues/6827/labels{/name}', 'comments_url': 'https://api.github.com/repos/huggingface/datasets/issues/6827/comments', 'events_url': 'https://api.github.com/repos/huggingface/datasets/issues/6827/events', 'html_url': 'https://github.com/huggingface/datasets/issues/6827', 'id': 2254011833, 'node_id': 'I_kwDODunzps6GWX25', 'number': 6827, 'title': 'Loading a remote dataset fails in the last release (v2.19.0)', 'user': {'login': 'zrthxn', 'id': 35369637, 'node_id': 'MDQ6VXNlcjM1MzY5NjM3', 'avatar_url': 'https://avatars.githubusercontent.com/u/35369637?v=4', 'gravatar_id': '', 'url': 'https://api.github.com/users/zrthxn', 'html_url': 'https://github.com/zrthxn', 'followers_url': 'https://api.github.com/users/zrthxn/followers', 'following_url': 'https://api.github.com/users/zrthxn/following{/other_user}', 'gists_url': 'https://api.github.com/users/zrthxn/gists{/gist_id}', 'starred_url': 'https://api.github.com/users/zrthxn/starred{/owner}{/repo}', 'subscriptions_url': 'https://api.github.com/users/zrthxn/subscriptions', 'organizations_url': 'https://api.github.com/users/zrthxn/orgs', 'repos_url': 'https://api.github.com/users/zrthxn/repos', 'events_url': 'https://api.github.com/users/zrthxn/events{/privacy}', 'received_events_url': 'https://api.github.com/users/zrthxn/received_events', 'type': 'User', 'site_admin': False}, 'labels': [], 'state': 'open', 'locked': False, 'assignee': None, 'assignees': [], 'milestone': None, 'comments': 0, 'created_at': '2024-04-19T21:11:58Z', 'updated_at': '2024-04-19T21:13:42Z', 'closed_at': None, 'author_association': 'NONE', 'active_lock_reason': None, 'body': 'While loading a dataset with multiple splits I get an error saying `Couldn\\'t find file at <URL>`\\r\\n\\r\\nI am loading the dataset like so, nothing out of the ordinary.\\r\\nThis dataset needs a token to access it.\\r\\n```\\r\\ntoken=\"hf_myhftoken-sdhbdsjgkhbd\"\\r\\nload_dataset(\"speechcolab/gigaspeech\", \"test\", cache_dir=f\"gigaspeech/test\", token=token)\\r\\n```\\r\\n\\r\\nI get the following error\\r\\n![Screenshot 2024-04-19 at 11 03 07\\u202fPM](https://github.com/huggingface/datasets/assets/35369637/8dce757f-08ff-45dd-85b5-890fced7c5bc)\\r\\n\\r\\nNow you can see that the URL that it is trying to reach has the JSON object of the dataset split appended to the base URL. I think this may be due to a newly introduced issue.\\r\\n\\r\\nI did not have this issue with the previous version of the datasets. Everything was fine for me yesterday and after the release 12 hours ago, this seems to have broken. Also, the dataset in question runs custom code and I checked and there have been no commits to the dataset on Huggingface in 6 months.\\r\\n\\r\\n### Steps to reproduce the bug\\r\\n\\r\\nSince this happened with one particular dataset for me, I am listing steps to use that dataset.\\r\\n1. Open https://huggingface.co/datasets/speechcolab/gigaspeech and fill the form to get access.\\r\\n2. Create a token on your huggingface account with read access.\\r\\n3. Run the following line, substituing `<your_token_here>` with your token.\\r\\n```\\r\\nload_dataset(\"speechcolab/gigaspeech\", \"test\", cache_dir=f\"gigaspeech/test\", token=\"<your_token_here>\")\\r\\n```\\r\\n\\r\\n### Expected behavior\\r\\n\\r\\nBe able to load the dataset in question.\\r\\n\\r\\n### Environment info\\r\\n\\r\\ndatasets == 2.19.0\\r\\npython == 3.10\\r\\nkernel == Linux 6.1.58+', 'reactions': {'url': 'https://api.github.com/repos/huggingface/datasets/issues/6827/reactions', 'total_count': 0, '+1': 0, '-1': 0, 'laugh': 0, 'hooray': 0, 'confused': 0, 'heart': 0, 'rocket': 0, 'eyes': 0}, 'timeline_url': 'https://api.github.com/repos/huggingface/datasets/issues/6827/timeline', 'performed_via_github_app': None, 'state_reason': None}]\n"
     ]
    }
   ],
   "source": [
    "print(response.json())"
   ]
  },
  {
   "cell_type": "code",
   "execution_count": 4,
   "metadata": {},
   "outputs": [],
   "source": [
    "import time\n",
    "import math\n",
    "from pathlib import Path\n",
    "import pandas as pd\n",
    "from tqdm.notebook import tqdm\n",
    "\n",
    "\n",
    "def fetch_issues(\n",
    "    owner=\"huggingface\",\n",
    "    repo=\"datasets\",\n",
    "    num_issues=4_000,\n",
    "    rate_limit=5_000,\n",
    "    issues_path=Path(\".\"),\n",
    "):\n",
    "    if not issues_path.is_dir():\n",
    "        issues_path.mkdir(exist_ok=True)\n",
    "\n",
    "    batch = []\n",
    "    all_issues = []\n",
    "    per_page = 100  # Number of issues to return per page\n",
    "    num_pages = math.ceil(num_issues / per_page)\n",
    "    base_url = \"https://api.github.com/repos\"\n",
    "\n",
    "    for page in tqdm(range(num_pages)):\n",
    "        # Query with state=all to get both open and closed issues\n",
    "        query = f\"issues?page={page}&per_page={per_page}&state=all\"\n",
    "        issues = requests.get(f\"{base_url}/{owner}/{repo}/{query}\", headers=headers)\n",
    "        batch.extend(issues.json())\n",
    "\n",
    "        if len(batch) > rate_limit and len(all_issues) < num_issues:\n",
    "            all_issues.extend(batch)\n",
    "            batch = []  # Flush batch for next time period\n",
    "            print(f\"Reached GitHub rate limit. Sleeping for one hour ...\")\n",
    "            \n",
    "\n",
    "    all_issues.extend(batch)\n",
    "    df = pd.DataFrame.from_records(all_issues)\n",
    "    df.to_json(f\"{issues_path}/{repo}-issues.jsonl\", orient=\"records\", lines=True)\n",
    "    print(\n",
    "        f\"Downloaded all the issues for {repo}! Dataset stored at {issues_path}/{repo}-issues.jsonl\"\n",
    "    )\n",
    "    return df"
   ]
  },
  {
   "cell_type": "code",
   "execution_count": 5,
   "metadata": {},
   "outputs": [
    {
     "data": {
      "application/vnd.jupyter.widget-view+json": {
       "model_id": "e76295ac602245ad9e0744ae3ec53a37",
       "version_major": 2,
       "version_minor": 0
      },
      "text/plain": [
       "  0%|          | 0/40 [00:00<?, ?it/s]"
      ]
     },
     "metadata": {},
     "output_type": "display_data"
    },
    {
     "name": "stdout",
     "output_type": "stream",
     "text": [
      "Downloaded all the issues for datasets! Dataset stored at ./datasets-issues.jsonl\n"
     ]
    }
   ],
   "source": [
    "df = fetch_issues()"
   ]
  },
  {
   "cell_type": "code",
   "execution_count": 6,
   "metadata": {},
   "outputs": [
    {
     "data": {
      "text/html": [
       "<div>\n",
       "<style scoped>\n",
       "    .dataframe tbody tr th:only-of-type {\n",
       "        vertical-align: middle;\n",
       "    }\n",
       "\n",
       "    .dataframe tbody tr th {\n",
       "        vertical-align: top;\n",
       "    }\n",
       "\n",
       "    .dataframe thead th {\n",
       "        text-align: right;\n",
       "    }\n",
       "</style>\n",
       "<table border=\"1\" class=\"dataframe\">\n",
       "  <thead>\n",
       "    <tr style=\"text-align: right;\">\n",
       "      <th></th>\n",
       "      <th>url</th>\n",
       "      <th>repository_url</th>\n",
       "      <th>labels_url</th>\n",
       "      <th>comments_url</th>\n",
       "      <th>events_url</th>\n",
       "      <th>html_url</th>\n",
       "      <th>id</th>\n",
       "      <th>node_id</th>\n",
       "      <th>number</th>\n",
       "      <th>title</th>\n",
       "      <th>...</th>\n",
       "      <th>closed_at</th>\n",
       "      <th>author_association</th>\n",
       "      <th>active_lock_reason</th>\n",
       "      <th>body</th>\n",
       "      <th>reactions</th>\n",
       "      <th>timeline_url</th>\n",
       "      <th>performed_via_github_app</th>\n",
       "      <th>state_reason</th>\n",
       "      <th>draft</th>\n",
       "      <th>pull_request</th>\n",
       "    </tr>\n",
       "  </thead>\n",
       "  <tbody>\n",
       "    <tr>\n",
       "      <th>0</th>\n",
       "      <td>https://api.github.com/repos/huggingface/datas...</td>\n",
       "      <td>https://api.github.com/repos/huggingface/datasets</td>\n",
       "      <td>https://api.github.com/repos/huggingface/datas...</td>\n",
       "      <td>https://api.github.com/repos/huggingface/datas...</td>\n",
       "      <td>https://api.github.com/repos/huggingface/datas...</td>\n",
       "      <td>https://github.com/huggingface/datasets/issues...</td>\n",
       "      <td>2254011833</td>\n",
       "      <td>I_kwDODunzps6GWX25</td>\n",
       "      <td>6827</td>\n",
       "      <td>Loading a remote dataset fails in the last rel...</td>\n",
       "      <td>...</td>\n",
       "      <td>None</td>\n",
       "      <td>NONE</td>\n",
       "      <td>None</td>\n",
       "      <td>While loading a dataset with multiple splits I...</td>\n",
       "      <td>{'url': 'https://api.github.com/repos/huggingf...</td>\n",
       "      <td>https://api.github.com/repos/huggingface/datas...</td>\n",
       "      <td>None</td>\n",
       "      <td>None</td>\n",
       "      <td>NaN</td>\n",
       "      <td>NaN</td>\n",
       "    </tr>\n",
       "    <tr>\n",
       "      <th>1</th>\n",
       "      <td>https://api.github.com/repos/huggingface/datas...</td>\n",
       "      <td>https://api.github.com/repos/huggingface/datasets</td>\n",
       "      <td>https://api.github.com/repos/huggingface/datas...</td>\n",
       "      <td>https://api.github.com/repos/huggingface/datas...</td>\n",
       "      <td>https://api.github.com/repos/huggingface/datas...</td>\n",
       "      <td>https://github.com/huggingface/datasets/pull/6826</td>\n",
       "      <td>2252445242</td>\n",
       "      <td>PR_kwDODunzps5tJMZh</td>\n",
       "      <td>6826</td>\n",
       "      <td>Set dev version</td>\n",
       "      <td>...</td>\n",
       "      <td>2024-04-19T08:52:14Z</td>\n",
       "      <td>MEMBER</td>\n",
       "      <td>None</td>\n",
       "      <td>None</td>\n",
       "      <td>{'url': 'https://api.github.com/repos/huggingf...</td>\n",
       "      <td>https://api.github.com/repos/huggingface/datas...</td>\n",
       "      <td>None</td>\n",
       "      <td>None</td>\n",
       "      <td>False</td>\n",
       "      <td>{'url': 'https://api.github.com/repos/huggingf...</td>\n",
       "    </tr>\n",
       "    <tr>\n",
       "      <th>2</th>\n",
       "      <td>https://api.github.com/repos/huggingface/datas...</td>\n",
       "      <td>https://api.github.com/repos/huggingface/datasets</td>\n",
       "      <td>https://api.github.com/repos/huggingface/datas...</td>\n",
       "      <td>https://api.github.com/repos/huggingface/datas...</td>\n",
       "      <td>https://api.github.com/repos/huggingface/datas...</td>\n",
       "      <td>https://github.com/huggingface/datasets/pull/6825</td>\n",
       "      <td>2252404599</td>\n",
       "      <td>PR_kwDODunzps5tJEMw</td>\n",
       "      <td>6825</td>\n",
       "      <td>Release: 2.19.0</td>\n",
       "      <td>...</td>\n",
       "      <td>2024-04-19T08:44:57Z</td>\n",
       "      <td>MEMBER</td>\n",
       "      <td>None</td>\n",
       "      <td>None</td>\n",
       "      <td>{'url': 'https://api.github.com/repos/huggingf...</td>\n",
       "      <td>https://api.github.com/repos/huggingface/datas...</td>\n",
       "      <td>None</td>\n",
       "      <td>None</td>\n",
       "      <td>False</td>\n",
       "      <td>{'url': 'https://api.github.com/repos/huggingf...</td>\n",
       "    </tr>\n",
       "    <tr>\n",
       "      <th>3</th>\n",
       "      <td>https://api.github.com/repos/huggingface/datas...</td>\n",
       "      <td>https://api.github.com/repos/huggingface/datasets</td>\n",
       "      <td>https://api.github.com/repos/huggingface/datas...</td>\n",
       "      <td>https://api.github.com/repos/huggingface/datas...</td>\n",
       "      <td>https://api.github.com/repos/huggingface/datas...</td>\n",
       "      <td>https://github.com/huggingface/datasets/issues...</td>\n",
       "      <td>2251076197</td>\n",
       "      <td>I_kwDODunzps6GLLJl</td>\n",
       "      <td>6824</td>\n",
       "      <td>Winogrande does not seem to be compatible with...</td>\n",
       "      <td>...</td>\n",
       "      <td>2024-04-19T09:52:33Z</td>\n",
       "      <td>NONE</td>\n",
       "      <td>None</td>\n",
       "      <td>### Describe the bug\\n\\nI get the following er...</td>\n",
       "      <td>{'url': 'https://api.github.com/repos/huggingf...</td>\n",
       "      <td>https://api.github.com/repos/huggingface/datas...</td>\n",
       "      <td>None</td>\n",
       "      <td>completed</td>\n",
       "      <td>NaN</td>\n",
       "      <td>NaN</td>\n",
       "    </tr>\n",
       "    <tr>\n",
       "      <th>4</th>\n",
       "      <td>https://api.github.com/repos/huggingface/datas...</td>\n",
       "      <td>https://api.github.com/repos/huggingface/datasets</td>\n",
       "      <td>https://api.github.com/repos/huggingface/datas...</td>\n",
       "      <td>https://api.github.com/repos/huggingface/datas...</td>\n",
       "      <td>https://api.github.com/repos/huggingface/datas...</td>\n",
       "      <td>https://github.com/huggingface/datasets/issues...</td>\n",
       "      <td>2250775569</td>\n",
       "      <td>I_kwDODunzps6GKBwR</td>\n",
       "      <td>6823</td>\n",
       "      <td>Loading problems of Datasets with a single shard</td>\n",
       "      <td>...</td>\n",
       "      <td>None</td>\n",
       "      <td>NONE</td>\n",
       "      <td>None</td>\n",
       "      <td>### Describe the bug\\r\\n\\r\\nWhen saving a data...</td>\n",
       "      <td>{'url': 'https://api.github.com/repos/huggingf...</td>\n",
       "      <td>https://api.github.com/repos/huggingface/datas...</td>\n",
       "      <td>None</td>\n",
       "      <td>None</td>\n",
       "      <td>NaN</td>\n",
       "      <td>NaN</td>\n",
       "    </tr>\n",
       "  </tbody>\n",
       "</table>\n",
       "<p>5 rows × 30 columns</p>\n",
       "</div>"
      ],
      "text/plain": [
       "                                                 url  \\\n",
       "0  https://api.github.com/repos/huggingface/datas...   \n",
       "1  https://api.github.com/repos/huggingface/datas...   \n",
       "2  https://api.github.com/repos/huggingface/datas...   \n",
       "3  https://api.github.com/repos/huggingface/datas...   \n",
       "4  https://api.github.com/repos/huggingface/datas...   \n",
       "\n",
       "                                      repository_url  \\\n",
       "0  https://api.github.com/repos/huggingface/datasets   \n",
       "1  https://api.github.com/repos/huggingface/datasets   \n",
       "2  https://api.github.com/repos/huggingface/datasets   \n",
       "3  https://api.github.com/repos/huggingface/datasets   \n",
       "4  https://api.github.com/repos/huggingface/datasets   \n",
       "\n",
       "                                          labels_url  \\\n",
       "0  https://api.github.com/repos/huggingface/datas...   \n",
       "1  https://api.github.com/repos/huggingface/datas...   \n",
       "2  https://api.github.com/repos/huggingface/datas...   \n",
       "3  https://api.github.com/repos/huggingface/datas...   \n",
       "4  https://api.github.com/repos/huggingface/datas...   \n",
       "\n",
       "                                        comments_url  \\\n",
       "0  https://api.github.com/repos/huggingface/datas...   \n",
       "1  https://api.github.com/repos/huggingface/datas...   \n",
       "2  https://api.github.com/repos/huggingface/datas...   \n",
       "3  https://api.github.com/repos/huggingface/datas...   \n",
       "4  https://api.github.com/repos/huggingface/datas...   \n",
       "\n",
       "                                          events_url  \\\n",
       "0  https://api.github.com/repos/huggingface/datas...   \n",
       "1  https://api.github.com/repos/huggingface/datas...   \n",
       "2  https://api.github.com/repos/huggingface/datas...   \n",
       "3  https://api.github.com/repos/huggingface/datas...   \n",
       "4  https://api.github.com/repos/huggingface/datas...   \n",
       "\n",
       "                                            html_url          id  \\\n",
       "0  https://github.com/huggingface/datasets/issues...  2254011833   \n",
       "1  https://github.com/huggingface/datasets/pull/6826  2252445242   \n",
       "2  https://github.com/huggingface/datasets/pull/6825  2252404599   \n",
       "3  https://github.com/huggingface/datasets/issues...  2251076197   \n",
       "4  https://github.com/huggingface/datasets/issues...  2250775569   \n",
       "\n",
       "               node_id  number  \\\n",
       "0   I_kwDODunzps6GWX25    6827   \n",
       "1  PR_kwDODunzps5tJMZh    6826   \n",
       "2  PR_kwDODunzps5tJEMw    6825   \n",
       "3   I_kwDODunzps6GLLJl    6824   \n",
       "4   I_kwDODunzps6GKBwR    6823   \n",
       "\n",
       "                                               title  ...  \\\n",
       "0  Loading a remote dataset fails in the last rel...  ...   \n",
       "1                                    Set dev version  ...   \n",
       "2                                    Release: 2.19.0  ...   \n",
       "3  Winogrande does not seem to be compatible with...  ...   \n",
       "4   Loading problems of Datasets with a single shard  ...   \n",
       "\n",
       "              closed_at author_association active_lock_reason  \\\n",
       "0                  None               NONE               None   \n",
       "1  2024-04-19T08:52:14Z             MEMBER               None   \n",
       "2  2024-04-19T08:44:57Z             MEMBER               None   \n",
       "3  2024-04-19T09:52:33Z               NONE               None   \n",
       "4                  None               NONE               None   \n",
       "\n",
       "                                                body  \\\n",
       "0  While loading a dataset with multiple splits I...   \n",
       "1                                               None   \n",
       "2                                               None   \n",
       "3  ### Describe the bug\\n\\nI get the following er...   \n",
       "4  ### Describe the bug\\r\\n\\r\\nWhen saving a data...   \n",
       "\n",
       "                                           reactions  \\\n",
       "0  {'url': 'https://api.github.com/repos/huggingf...   \n",
       "1  {'url': 'https://api.github.com/repos/huggingf...   \n",
       "2  {'url': 'https://api.github.com/repos/huggingf...   \n",
       "3  {'url': 'https://api.github.com/repos/huggingf...   \n",
       "4  {'url': 'https://api.github.com/repos/huggingf...   \n",
       "\n",
       "                                        timeline_url performed_via_github_app  \\\n",
       "0  https://api.github.com/repos/huggingface/datas...                     None   \n",
       "1  https://api.github.com/repos/huggingface/datas...                     None   \n",
       "2  https://api.github.com/repos/huggingface/datas...                     None   \n",
       "3  https://api.github.com/repos/huggingface/datas...                     None   \n",
       "4  https://api.github.com/repos/huggingface/datas...                     None   \n",
       "\n",
       "   state_reason  draft                                       pull_request  \n",
       "0          None    NaN                                                NaN  \n",
       "1          None  False  {'url': 'https://api.github.com/repos/huggingf...  \n",
       "2          None  False  {'url': 'https://api.github.com/repos/huggingf...  \n",
       "3     completed    NaN                                                NaN  \n",
       "4          None    NaN                                                NaN  \n",
       "\n",
       "[5 rows x 30 columns]"
      ]
     },
     "execution_count": 6,
     "metadata": {},
     "output_type": "execute_result"
    }
   ],
   "source": [
    "df.head()"
   ]
  },
  {
   "cell_type": "code",
   "execution_count": 7,
   "metadata": {},
   "outputs": [
    {
     "data": {
      "text/plain": [
       "Index(['url', 'repository_url', 'labels_url', 'comments_url', 'events_url',\n",
       "       'html_url', 'id', 'node_id', 'number', 'title', 'user', 'labels',\n",
       "       'state', 'locked', 'assignee', 'assignees', 'milestone', 'comments',\n",
       "       'created_at', 'updated_at', 'closed_at', 'author_association',\n",
       "       'active_lock_reason', 'body', 'reactions', 'timeline_url',\n",
       "       'performed_via_github_app', 'state_reason', 'draft', 'pull_request'],\n",
       "      dtype='object')"
      ]
     },
     "execution_count": 7,
     "metadata": {},
     "output_type": "execute_result"
    }
   ],
   "source": [
    "df.columns"
   ]
  },
  {
   "cell_type": "code",
   "execution_count": 12,
   "metadata": {},
   "outputs": [],
   "source": [
    "df = df.dropna(axis=\"columns\")"
   ]
  },
  {
   "cell_type": "code",
   "execution_count": 15,
   "metadata": {},
   "outputs": [],
   "source": [
    "repo=\"datasets\",\n",
    "df.to_json(f\"./{repo}-issues.jsonl\", orient=\"records\", lines=True)"
   ]
  },
  {
   "cell_type": "code",
   "execution_count": 16,
   "metadata": {},
   "outputs": [
    {
     "data": {
      "application/vnd.jupyter.widget-view+json": {
       "model_id": "48afb58ee604419a8995c468ea36e0ca",
       "version_major": 2,
       "version_minor": 0
      },
      "text/plain": [
       "Generating train split: 0 examples [00:00, ? examples/s]"
      ]
     },
     "metadata": {},
     "output_type": "display_data"
    },
    {
     "data": {
      "text/plain": [
       "Dataset({\n",
       "    features: ['url', 'repository_url', 'labels_url', 'comments_url', 'events_url', 'html_url', 'id', 'node_id', 'number', 'title', 'user', 'labels', 'state', 'locked', 'assignees', 'comments', 'created_at', 'updated_at', 'author_association', 'reactions', 'timeline_url'],\n",
       "    num_rows: 4000\n",
       "})"
      ]
     },
     "execution_count": 16,
     "metadata": {},
     "output_type": "execute_result"
    }
   ],
   "source": [
    "issues_dataset = load_dataset(\"json\", data_files=\"datasets-issues.jsonl\", split=\"train\")\n",
    "issues_dataset"
   ]
  },
  {
   "cell_type": "code",
   "execution_count": 19,
   "metadata": {},
   "outputs": [
    {
     "name": "stdout",
     "output_type": "stream",
     "text": [
      ">> URL: ('https://github.com/huggingface/datasets/pull/5860',)\n",
      ">> URL: ('https://github.com/huggingface/datasets/issues/4728',)\n",
      ">> URL: ('https://github.com/huggingface/datasets/pull/4406',)\n"
     ]
    }
   ],
   "source": [
    "sample = issues_dataset.shuffle(seed=666).select(range(3))\n",
    "\n",
    "# Print out the URL and pull request entries\n",
    "for url  in zip(sample[\"html_url\"]):\n",
    "    print(f\">> URL: {url}\")"
   ]
  },
  {
   "cell_type": "code",
   "execution_count": null,
   "metadata": {},
   "outputs": [],
   "source": []
  }
 ],
 "metadata": {
  "kernelspec": {
   "display_name": "HG",
   "language": "python",
   "name": "huggingface"
  },
  "language_info": {
   "codemirror_mode": {
    "name": "ipython",
    "version": 3
   },
   "file_extension": ".py",
   "mimetype": "text/x-python",
   "name": "python",
   "nbconvert_exporter": "python",
   "pygments_lexer": "ipython3",
   "version": "3.11.5"
  }
 },
 "nbformat": 4,
 "nbformat_minor": 4
}
